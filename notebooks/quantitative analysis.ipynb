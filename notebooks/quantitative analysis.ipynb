{
 "cells": [
  {
   "cell_type": "code",
   "execution_count": null,
   "id": "1a7b913e",
   "metadata": {},
   "outputs": [],
   "source": [
    "# Import required libraries and QuantAnalysis class\n",
    "import sys\n",
    "sys.path.append('../src')\n",
    "from quantitative_analysis_fn import QuantAnalysis\n",
    "import pandas as pd\n",
    "\n"
   ]
  },
  {
   "cell_type": "markdown",
   "id": "067713fa",
   "metadata": {},
   "source": [
    "1. Load and Prepare Stock Price Data\n",
    "load historical stock price data for a selected ticker (e.g., AAPL) and ensure it contains the required columns: Open, High, Low, Close, and Volume."
   ]
  },
  {
   "cell_type": "code",
   "execution_count": null,
   "id": "a47dc690",
   "metadata": {},
   "outputs": [],
   "source": [
    "# Load stock price data for AAPL\n",
    "\n",
    "df = QuantAnalysis.load_stock_data('../data/yfinance_data/AAPL_historical_data.csv')\n",
    "df.head()"
   ]
  },
  {
   "cell_type": "markdown",
   "id": "c2f2b5ef",
   "metadata": {},
   "source": [
    "2. Calculate Technical Indicators\n",
    "use TA-Lib to calculate the 20-day Simple Moving Average (SMA), 14-day Relative Strength Index (RSI), and MACD (Moving Average Convergence Divergence)."
   ]
  },
  {
   "cell_type": "code",
   "execution_count": null,
   "id": "eca1753f",
   "metadata": {},
   "outputs": [],
   "source": [
    "# Calculate technical indicators\n",
    "\n",
    "df = QuantAnalysis.calculate_technical_indicators(df)\n",
    "df[['Close', 'SMA_20', 'RSI_14', 'MACD', 'MACD_signal', 'MACD_hist']].tail()"
   ]
  },
  {
   "cell_type": "markdown",
   "id": "eb9b501f",
   "metadata": {},
   "source": [
    "3. Fetch Financial Metrics with PyNance\n",
    "You can use PyNance to fetch additional financial metrics for deeper analysis."
   ]
  },
  {
   "cell_type": "code",
   "execution_count": null,
   "id": "238b47ad",
   "metadata": {},
   "outputs": [],
   "source": [
    "# Example: Fetch historical data using PyNance (requires internet access)\n",
    "metrics = QuantAnalysis.get_pynance_metrics('AAPL', '2023-01-01', '2023-12-31')\n",
    "if metrics is not None:\n",
    "    print(metrics.head())\n",
    "else:\n",
    "    print(\"Failed to fetch data\")\n",
    "\n"
   ]
  },
  {
   "cell_type": "markdown",
   "id": "8e1cf2e8",
   "metadata": {},
   "source": [
    "4. Visualize Technical Indicators\n",
    "visualize the Close price, SMA, RSI, and MACD to better understand the stock's price action and indicator signals."
   ]
  },
  {
   "cell_type": "code",
   "execution_count": null,
   "id": "384c3b7b",
   "metadata": {},
   "outputs": [],
   "source": [
    "# Visualize technical indicators\n",
    "\n",
    "QuantAnalysis.plot_technical_indicators(df, ticker='AAPL')"
   ]
  },
  {
   "cell_type": "markdown",
   "id": "ec155ea9",
   "metadata": {},
   "source": [
    "---\n",
    "**References:**\n",
    "- [TA-Lib Documentation](https://mrjbq7.github.io/ta-lib/)\n",
    "- [PyNance Documentation](https://pynance.readthedocs.io/en/latest/)\n",
    "- [Pandas Documentation](https://pandas.pydata.org/)\n",
    "- https://www.kaggle.com/code/mmmarchetti/tutorial-python-for-finance\n",
    "- https://www.youtube.com/watch?v=5cZJPvEYRbA\n"
   ]
  }
 ],
 "metadata": {
  "kernelspec": {
   "display_name": "venv",
   "language": "python",
   "name": "python3"
  },
  "language_info": {
   "codemirror_mode": {
    "name": "ipython",
    "version": 3
   },
   "file_extension": ".py",
   "mimetype": "text/x-python",
   "name": "python",
   "nbconvert_exporter": "python",
   "pygments_lexer": "ipython3",
   "version": "3.12.0"
  }
 },
 "nbformat": 4,
 "nbformat_minor": 5
}

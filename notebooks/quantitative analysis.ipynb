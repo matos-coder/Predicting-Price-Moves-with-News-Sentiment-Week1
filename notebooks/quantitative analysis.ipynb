{
 "cells": [
  {
   "cell_type": "code",
   "execution_count": null,
   "id": "1a7b913e",
   "metadata": {},
   "outputs": [],
   "source": [
    "# Import required libraries and QuantAnalysis class\n",
    "import sys\n",
    "sys.path.append('../src')\n",
    "from quantitative_analysis_fn import QuantAnalysis\n",
    "import pandas as pd\n",
    "\n"
   ]
  },
  {
   "cell_type": "markdown",
   "id": "067713fa",
   "metadata": {},
   "source": [
    "1. Load and Prepare Stock Price Data\n",
    "load historical stock price data for a selected ticker (e.g., AAPL) and ensure it contains the required columns: Open, High, Low, Close, and Volume."
   ]
  },
  {
   "cell_type": "code",
   "execution_count": null,
   "id": "a47dc690",
   "metadata": {},
   "outputs": [],
   "source": [
    "# Load stock price data for AAPL\n",
    "\n",
    "df = QuantAnalysis.load_stock_data('../data/yfinance_data/AAPL_historical_data.csv')\n",
    "df.head()"
   ]
  },
  {
   "cell_type": "markdown",
   "id": "c2f2b5ef",
   "metadata": {},
   "source": [
    "2. Calculate Technical Indicators\n",
    "use TA-Lib to calculate the 20-day Simple Moving Average (SMA), 14-day Relative Strength Index (RSI), and MACD (Moving Average Convergence Divergence)."
   ]
  },
  {
   "cell_type": "code",
   "execution_count": null,
   "id": "eca1753f",
   "metadata": {},
   "outputs": [],
   "source": [
    "# Calculate technical indicators\n",
    "\n",
    "df = QuantAnalysis.calculate_technical_indicators(df)\n",
    "df[['Close', 'SMA_20', 'RSI_14', 'MACD', 'MACD_signal', 'MACD_hist']].tail()"
   ]
  },
  {
   "cell_type": "markdown",
   "id": "eb9b501f",
   "metadata": {},
   "source": [
    "3. Fetch Financial Metrics with PyNance\n",
    "You can use PyNance to fetch additional financial metrics for deeper analysis."
   ]
  },
  {
   "cell_type": "code",
   "execution_count": null,
   "id": "238b47ad",
   "metadata": {},
   "outputs": [],
   "source": [
    "# Example: Fetch historical data using PyNance (requires internet access)\n",
    "metrics = QuantAnalysis.get_pynance_metrics('AAPL', '2023-01-01', '2023-12-31')\n",
    "if metrics is not None:\n",
    "    print(metrics.head())\n",
    "else:\n",
    "    print(\"Failed to fetch data\")\n",
    "\n"
   ]
  },
  {
   "cell_type": "markdown",
   "id": "8e1cf2e8",
   "metadata": {},
   "source": [
    "4. Visualize Technical Indicators\n",
    "visualize the Close price, SMA, RSI, and MACD to better understand the stock's price action and indicator signals."
   ]
  },
  {
   "cell_type": "code",
   "execution_count": null,
   "id": "384c3b7b",
   "metadata": {},
   "outputs": [],
   "source": [
    "# Visualize technical indicators\n",
    "\n",
    "QuantAnalysis.plot_technical_indicators(df, ticker='AAPL')"
   ]
  },
  {
   "cell_type": "markdown",
   "id": "ec155ea9",
   "metadata": {},
   "source": [
    "---\n",
    "**References:**\n",
    "- [TA-Lib Documentation](https://mrjbq7.github.io/ta-lib/)\n",
    "- [PyNance Documentation](https://pynance.readthedocs.io/en/latest/)\n",
    "- [Pandas Documentation](https://pandas.pydata.org/)\n",
    "- https://www.kaggle.com/code/mmmarchetti/tutorial-python-for-finance\n",
    "- https://www.youtube.com/watch?v=5cZJPvEYRbA\n"
   ]
  },
  {
   "cell_type": "code",
   "execution_count": null,
   "id": "c38842b0",
   "metadata": {},
   "outputs": [
    {
     "name": "stdout",
     "output_type": "stream",
     "text": [
      "News file exists: True\n",
      "Stock file exists: True\n",
      "News data sample:\n",
      "         date                                           headline\n",
      "0  2020-05-06            Stocks That Hit 52-Week Highs On Friday\n",
      "1  2020-03-06         Stocks That Hit 52-Week Highs On Wednesday\n",
      "2  2020-05-26                      71 Biggest Movers From Friday\n",
      "3  2020-05-22       46 Stocks Moving In Friday's Mid-Day Session\n",
      "4  2020-05-22  B of A Securities Maintains Neutral on Agilent...\n",
      "\n",
      "Stock data sample:\n",
      "         date     Close\n",
      "0  1980-12-12  0.128348\n",
      "1  1980-12-15  0.121652\n",
      "2  1980-12-16  0.112723\n",
      "3  1980-12-17  0.115513\n",
      "4  1980-12-18  0.118862\n",
      "News data sample:\n",
      "         date                                           headline\n",
      "0  2020-05-06            Stocks That Hit 52-Week Highs On Friday\n",
      "1  2020-03-06         Stocks That Hit 52-Week Highs On Wednesday\n",
      "2  2020-05-26                      71 Biggest Movers From Friday\n",
      "3  2020-05-22       46 Stocks Moving In Friday's Mid-Day Session\n",
      "4  2020-05-22  B of A Securities Maintains Neutral on Agilent...\n",
      "\n",
      "Stock data sample:\n",
      "         date     Close\n",
      "0  1980-12-12  0.128348\n",
      "1  1980-12-15  0.121652\n",
      "2  1980-12-16  0.112723\n",
      "3  1980-12-17  0.115513\n",
      "4  1980-12-18  0.118862\n"
     ]
    }
   ],
   "source": [
    "# Task 3: Correlation between News Sentiment and Stock Movement\n",
    "\n",
    "# 1. Date Alignment: Ensure that both datasets (news and stock prices) are aligned by dates.\n",
    "import sys\n",
    "sys.path.append('../src')\n",
    "from quantitative_analysis_fn import NewsSentimentCorrelation\n",
    "import pandas as pd\n",
    "import os\n",
    "print(\"News file exists:\", os.path.exists('../data/raw/raw_analyst_ratings.csv'))\n",
    "print(\"Stock file exists:\", os.path.exists('../data/yfinance_data/AAPL_historical_data.csv'))\n",
    "\n",
    "# Load and align data\n",
    "news_df, stock_df = NewsSentimentCorrelation.load_and_align_data(\n",
    "    '../data/raw/raw_analyst_ratings.csv',\n",
    "    '../data/yfinance_data/AAPL_historical_data.csv'\n",
    ")\n",
    "\n",
    "# 2. Sentiment Analysis: Conduct sentiment analysis on news headlines to quantify the tone of each article.\n",
    "news_df = NewsSentimentCorrelation.compute_sentiment(news_df)\n",
    "\n",
    "# 3. Analysis: Calculate Daily Stock Returns\n",
    "# Compute the percentage change in daily closing prices to represent stock movements.\n",
    "daily_returns = NewsSentimentCorrelation.compute_daily_returns(stock_df)\n",
    "\n",
    "# 4. Analysis: Aggregate daily sentiment scores\n",
    "daily_sentiment = NewsSentimentCorrelation.aggregate_daily_sentiment(news_df)\n",
    "\n",
    "# 5. Correlation Analysis: Use statistical methods to test the correlation between daily news sentiment scores and stock returns.\n",
    "merged, correlation = NewsSentimentCorrelation.merge_and_correlate(daily_sentiment, daily_returns)\n",
    "print(f\"Pearson correlation between average daily sentiment and daily stock returns: {correlation:.3f}\")\n",
    "\n",
    "# Optional: Visualize the relationship\n",
    "import matplotlib.pyplot as plt\n",
    "fig, ax1 = plt.subplots(figsize=(12,6))\n",
    "ax1.plot(merged['date'], merged['avg_sentiment'], label='Avg Sentiment', color='blue')\n",
    "ax2 = ax1.twinx()\n",
    "ax2.plot(merged['date'], merged['daily_return'], label='Daily Return', color='orange')\n",
    "ax1.set_xlabel('Date')\n",
    "ax1.set_ylabel('Avg Sentiment')\n",
    "ax2.set_ylabel('Daily Return')\n",
    "plt.title('Daily News Sentiment vs. Stock Returns')\n",
    "plt.show()"
   ]
  }
 ],
 "metadata": {
  "kernelspec": {
   "display_name": "venv",
   "language": "python",
   "name": "python3"
  },
  "language_info": {
   "codemirror_mode": {
    "name": "ipython",
    "version": 3
   },
   "file_extension": ".py",
   "mimetype": "text/x-python",
   "name": "python",
   "nbconvert_exporter": "python",
   "pygments_lexer": "ipython3",
   "version": "3.12.0"
  }
 },
 "nbformat": 4,
 "nbformat_minor": 5
}

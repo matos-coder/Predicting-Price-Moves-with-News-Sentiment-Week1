{
 "cells": [
  {
   "cell_type": "code",
   "execution_count": 4,
   "id": "89c4acf3",
   "metadata": {},
   "outputs": [
    {
     "data": {
      "text/plain": [
       "count    1.407328e+06\n",
       "mean     7.312051e+01\n",
       "std      4.073531e+01\n",
       "min      3.000000e+00\n",
       "25%      4.700000e+01\n",
       "50%      6.400000e+01\n",
       "75%      8.700000e+01\n",
       "max      5.120000e+02\n",
       "Name: headline_length, dtype: float64"
      ]
     },
     "execution_count": 4,
     "metadata": {},
     "output_type": "execute_result"
    }
   ],
   "source": [
    "import sys\n",
    "sys.path.append('../src')\n",
    "import ed_function as eda\n",
    "\n",
    "# Load data\n",
    "df = eda.load_data('../data/raw/raw_analyst_ratings.csv')\n",
    "df.head()\n",
    "\n",
    "# Add headline length\n",
    "df = eda.add_headline_length(df)\n",
    "eda.describe_headline_length(df)"
   ]
  }
 ],
 "metadata": {
  "kernelspec": {
   "display_name": "week_1",
   "language": "python",
   "name": "python3"
  },
  "language_info": {
   "codemirror_mode": {
    "name": "ipython",
    "version": 3
   },
   "file_extension": ".py",
   "mimetype": "text/x-python",
   "name": "python",
   "nbconvert_exporter": "python",
   "pygments_lexer": "ipython3",
   "version": "3.13.1"
  }
 },
 "nbformat": 4,
 "nbformat_minor": 5
}
